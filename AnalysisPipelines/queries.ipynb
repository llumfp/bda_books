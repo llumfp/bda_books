{
 "cells": [
  {
   "cell_type": "code",
   "execution_count": 2,
   "metadata": {},
   "outputs": [],
   "source": [
    "from SPARQLWrapper import SPARQLWrapper, JSON\n",
    "import urllib.parse"
   ]
  },
  {
   "cell_type": "code",
   "execution_count": 3,
   "metadata": {},
   "outputs": [],
   "source": [
    "endpoint_url = \"http://localhost:7200/repositories/new_project\"  # Cambia esto según tu configuración\n",
    "\n",
    "def ejecutar_consulta(endpoint_url, consulta):\n",
    "    sparql = SPARQLWrapper(endpoint_url)\n",
    "    sparql.setQuery(consulta)\n",
    "    sparql.setReturnFormat(JSON)\n",
    "    resultados = sparql.query().convert()\n",
    "    return resultados[\"results\"][\"bindings\"]"
   ]
  },
  {
   "cell_type": "markdown",
   "metadata": {},
   "source": [
    "## Pattern matching"
   ]
  },
  {
   "cell_type": "markdown",
   "metadata": {},
   "source": [
    "##### Find short romantic books"
   ]
  },
  {
   "cell_type": "code",
   "execution_count": 4,
   "metadata": {},
   "outputs": [],
   "source": [
    "query = \"\"\"PREFIX rdf: <http://www.w3.org/1999/02/22-rdf-syntax-ns#>\n",
    "PREFIX ns: <http://example.org/ns#>\n",
    "\n",
    "SELECT ?book ?title ?pages\n",
    "WHERE {\n",
    "  ?book rdf:type ns:Book .\n",
    "  ?book ns:title ?title .\n",
    "  ?book ns:hasPages ?pages .\n",
    "  ?book ns:hasGenre ?genreAssignment .\n",
    "  ?genreAssignment ns:genreType ns:Romance .\n",
    "  ?genreAssignment ns:hasProbability ?prob\n",
    "  FILTER (?prob > 0.7)\n",
    "  FILTER (?pages < 200)\n",
    "}\n",
    "\n",
    "\"\"\"\n",
    "resultados = ejecutar_consulta(endpoint_url, query)\n"
   ]
  },
  {
   "cell_type": "code",
   "execution_count": 12,
   "metadata": {},
   "outputs": [
    {
     "name": "stdout",
     "output_type": "stream",
     "text": [
      "Title                                                                                      Pages     \n",
      "=======================================================================================================================================\n",
      "Euripides: Medea                                                                           160       \n",
      "The Art of War                                                                             128       \n",
      "Mythologies                                                                                159       \n",
      "Gourds: Southwest Gourd Techniques  Projects from Simple to Sophisticated                  160       \n",
      "Zur Genealogie der Moral                                                                   187       \n",
      "I quattro accordi                                                                          92        \n",
      "The Low Down on Going Down: How to Give Her Mind-Blowing Oral Sex                          143       \n",
      "The Continuum Concept: In Search Of Happiness Lost                                         192       \n",
      "This Book Needs No Title: A Budget of Living Paradoxes                                     192       \n",
      "Nietzsche's Thus Spake Zarathustra: A Beginner's Guide                                     96        \n",
      "Practicing Peace in Times of War                                                           128       \n",
      "You Can Be Happy No Matter What: Five Principles for Keeping Life in Perspective           165       \n",
      "Grossed-Out Surgeon Vomits Inside Patient!: An Insider's Look at the Supermarket Tabloids  147       \n",
      "The Art of War                                                                             96        \n",
      "The Book of Learning and Forgetting                                                        133       \n",
      "A Short Guide to a Happy Life                                                              50        \n",
      "Luscious Lemon Desserts                                                                    144       \n",
      "Creative Stamping in Polymer Clay                                                          123       \n",
      "Six Walks in the Fictional Woods                                                           160       \n",
      "Palestine and the Arabs' Fight for Liberation                                              62        \n",
      "Los cuatro acuerdos                                                                        168       \n",
      "The Glory of Christmas                                                                     143       \n",
      "A Diary of Private Prayer                                                                  144       \n",
      "Who Knows?: A Study of Religious Consciousness                                             160       \n",
      "Creating Sketchbooks for Embroiderers and Textile Artists                                  128       \n",
      "Beyond Stitch And Bitch: Reflections On Knitting And Life                                  192       \n",
      "American Fascists: The Christian Right and the War on America                              0         \n",
      "Color Mixing Recipes for Portraits: More Than 500 Color Cominations for Skin, Eyes, Lips, and Hair : Featuring Oil and Acrylic - Plus a Special Section for Watercolor 48        \n",
      "Waiting for the End of the World                                                           128       \n",
      "The Desert Smells Like Rain: A Naturalist in Papago Indian Country                         158       \n",
      "Godless Morality: Keeping Religion Out of Ethics                                           163       \n",
      "Traditional Crafts from Africa                                                             32        \n",
      "Gertrude Jekyll's Colour Schemes for the Flower Garden                                     192       \n",
      "A Woman Doctor's Guide to Miscarriage: Essential Facts and Up To The Minute Information on Coping With Pregnancy Loss and Trying Again 176       \n",
      "The Heart of the Goddess: Art, Myth and Meditations of the World's Sacred Feminine         174       \n",
      "The Handbook of Ayurveda                                                                   128       \n",
      "The Last Cowboy                                                                            148       \n",
      "From Cocoa Bean To Chocolate                                                               24        \n"
     ]
    }
   ],
   "source": [
    "print(f\"{'Title':<90} {'Pages':<10}\")\n",
    "print(135*\"=\")\n",
    "for idx, resultado in enumerate(resultados):\n",
    "    title = resultado[\"title\"][\"value\"]\n",
    "    pages = resultado[\"pages\"][\"value\"] if \"pages\" in resultado else \"N/A\"\n",
    "    \n",
    "    print(f\"{title:<90} {pages:<10}\")"
   ]
  },
  {
   "cell_type": "markdown",
   "metadata": {},
   "source": [
    "#### Find books from Shakespeare"
   ]
  },
  {
   "cell_type": "code",
   "execution_count": 16,
   "metadata": {},
   "outputs": [],
   "source": [
    "query = \"\"\"\n",
    "PREFIX ns: <http://example.org/ns#>\n",
    "PREFIX rdf: <http://www.w3.org/1999/02/22-rdf-syntax-ns#>\n",
    "SELECT ?title ?name\n",
    "WHERE {\n",
    "  ?book rdf:type ns:Book .\n",
    "  ?book ns:title ?title .\n",
    "  ?book ns:writtenBy ?author .\n",
    "  ?author ns:hasName \"William Shakespeare\" .\n",
    "}\n",
    "ORDER BY asc(?title)\"\"\"\n",
    "\n",
    "resultados = ejecutar_consulta(endpoint_url, query)"
   ]
  },
  {
   "cell_type": "code",
   "execution_count": 22,
   "metadata": {},
   "outputs": [
    {
     "name": "stdout",
     "output_type": "stream",
     "text": [
      "William Shakespeare's Books                                                               \n",
      "======================================================================\n",
      "A Midsummer Night's Dream                                                                 \n",
      "As You Like It                                                                            \n",
      "Julius Caesar                                                                             \n",
      "King John                                                                                 \n",
      "Romeo and Juliet                                                                          \n",
      "Romeo y Julieta                                                                           \n",
      "The Merry Wives of Windsor                                                                \n",
      "The Winter's Tale                                                                         \n"
     ]
    }
   ],
   "source": [
    "print(f\"{\"William Shakespeare's Books\":<90}\")\n",
    "print(70*\"=\")\n",
    "for idx, resultado in enumerate(resultados):\n",
    "    title = resultado[\"title\"][\"value\"]\n",
    "    \n",
    "    print(f\"{title:<90}\")"
   ]
  },
  {
   "cell_type": "markdown",
   "metadata": {},
   "source": [
    "## Find your perfect book"
   ]
  },
  {
   "cell_type": "markdown",
   "metadata": {},
   "source": [
    "### Previous queries\n",
    "This previous queries allows us to calculate popularity of an author and distinguish between famous authors and unknown ones"
   ]
  },
  {
   "cell_type": "markdown",
   "metadata": {},
   "source": [
    "1. We need to get the maximum and minimum rating and count"
   ]
  },
  {
   "cell_type": "code",
   "execution_count": 24,
   "metadata": {},
   "outputs": [
    {
     "name": "stdout",
     "output_type": "stream",
     "text": [
      "minRating: 0.0\n",
      "maxRating: 5.0\n",
      "minCount: 0.0\n",
      "maxCount: 18532721.0\n"
     ]
    }
   ],
   "source": [
    "query_min_max = \"\"\"\n",
    "PREFIX ns: <http://example.org/ns#>\n",
    "\n",
    "SELECT (MIN(?rating) AS ?minRating) (MAX(?rating) AS ?maxRating) (MIN(?count) AS ?minCount) (MAX(?count) AS ?maxCount)\n",
    "WHERE {\n",
    "    ?author ns:hasAvgRating ?rating .\n",
    "    ?author ns:ratedBy ?count .\n",
    "}\"\"\"\n",
    "\n",
    "min_max = ejecutar_consulta(endpoint_url,query_min_max)\n",
    "for k in min_max[0]:\n",
    "    print(f'{k}: {float(min_max[0][k]['value'])}')"
   ]
  },
  {
   "cell_type": "markdown",
   "metadata": {},
   "source": [
    "2. We need to calculate the average popularity to have a threashold"
   ]
  },
  {
   "cell_type": "code",
   "execution_count": 25,
   "metadata": {},
   "outputs": [],
   "source": [
    "query_avg_popularity = f\"\"\"PREFIX ns: <http://example.org/ns#>\n",
    "PREFIX rdf: <http://www.w3.org/1999/02/22-rdf-syntax-ns#>\n",
    "PREFIX xsd: <http://www.w3.org/2001/XMLSchema#>\n",
    "SELECT (AVG(?popularity) AS ?avgpopular)\n",
    "    WHERE {{\n",
    "        ?author rdf:type ns:Author .\n",
    "        ?author ns:hasAvgRating ?AuthorRating .\n",
    "        ?author ns:ratedBy ?count .\n",
    "        BIND(((?AuthorRating - {float(min_max[0]['minRating']['value'])}) / ({float(min_max[0]['maxRating']['value'])} - {float(min_max[0]['minRating']['value'])}) * 0.5 + \n",
    "                (?count - {float(min_max[0]['minCount']['value'])}) / ({float(min_max[0]['maxCount']['value'])} - {float(min_max[0]['minCount']['value'])}) * 0.5) AS ?popularity)\n",
    "    }}\"\"\"\n",
    "\n",
    "avg_popularity = ejecutar_consulta(endpoint_url,query_avg_popularity)"
   ]
  },
  {
   "cell_type": "code",
   "execution_count": 26,
   "metadata": {},
   "outputs": [],
   "source": [
    "popularity_threashold = float(avg_popularity[0]['avgpopular']['value'])"
   ]
  },
  {
   "cell_type": "code",
   "execution_count": 27,
   "metadata": {},
   "outputs": [
    {
     "data": {
      "text/plain": [
       "0.3943175919023493"
      ]
     },
     "execution_count": 27,
     "metadata": {},
     "output_type": "execute_result"
    }
   ],
   "source": [
    "popularity_threashold"
   ]
  },
  {
   "cell_type": "markdown",
   "metadata": {},
   "source": [
    "### Full query\n",
    "We are defining short as books with less than 200 pages, medium for books between 200 and 400 and long for books with more than 400 pages.\n",
    "\n",
    "Also, we have chosen a threashold of 0.7 for probability of the Genre and the popularity threashold had been established with the average."
   ]
  },
  {
   "cell_type": "code",
   "execution_count": 28,
   "metadata": {},
   "outputs": [],
   "source": [
    "from SPARQLWrapper import SPARQLWrapper, JSON\n",
    "import urllib.parse\n",
    "\n",
    "# Función para pedir preferencias al usuario\n",
    "def pedir_preferencias():\n",
    "    genero = input(\"¿Qué género estás buscando? \").strip()\n",
    "    longitud = input(\"¿Te gustan libros cortos/medios/largos? \").strip().lower()\n",
    "    libro_reciente = input(\"¿Tienes una referencia de algún libro que hayas leído recientemente? \").strip()\n",
    "    tipo_autor = input(\"¿Prefieres un autor famoso o poco conocido? (famoso/poco conocido) \").strip().lower()\n",
    "    return genero, longitud, libro_reciente, tipo_autor\n",
    "\n",
    "def crear_consulta(genero, longitud, libro_reciente, tipo_autor):\n",
    "    longitud_filter = {\n",
    "        \"corto\": \"FILTER (?pages <= 200)\",\n",
    "        \"medio\": \"FILTER (?pages > 200 && ?pages <= 400)\",\n",
    "        \"largo\": \"FILTER (?pages > 400)\"\n",
    "    }\n",
    "\n",
    "    genero_uri = urllib.parse.quote(genero)\n",
    "    autor_filter = \"\"\"\n",
    "            BIND(((?AuthorRating - {float(min_max[0]['minRating']['value'])}) / ({float(min_max[0]['maxRating']['value'])} - {float(min_max[0]['minRating']['value'])}) * 0.5 + \n",
    "            (?count - {float(min_max[0]['minCount']['value'])}) / ({float(min_max[0]['maxCount']['value'])} - {float(min_max[0]['minCount']['value'])}) * 0.5) AS ?popularity)\n",
    "            \"\"\"\n",
    "    if tipo_autor == \"famoso\":\n",
    "        autor_filter += f\"FILTER (?popularity >= {popularity_threashold})\"\n",
    "    elif tipo_autor == \"no conocido\":\n",
    "        autor_filter += f\"FILTER (?popularity < {popularity_threashold})\"\n",
    "    else:\n",
    "        autor_filter = \"\"\n",
    "\n",
    "    consulta = f\"\"\"\n",
    "    PREFIX ns: <http://example.org/ns#>\n",
    "    PREFIX rdf: <http://www.w3.org/1999/02/22-rdf-syntax-ns#>\n",
    "    PREFIX xsd: <http://www.w3.org/2001/XMLSchema#>\n",
    "    SELECT ?book ?title ?pages ?authorName ?count ?AuthorRating ?popularity (AVG(?rating) AS ?avgRating) (COUNT(?similarBook) AS ?similarityCount)\n",
    "        WHERE {{\n",
    "            ?book rdf:type ns:Book .\n",
    "            ?book ns:title ?title .\n",
    "        \n",
    "            # Filtrar por género preferido\n",
    "            ?book ns:hasGenre ?genreAssignment .\n",
    "            ?genreAssignment ns:genreType ns:{genero_uri} .\n",
    "        \n",
    "            # Filtrar por longitud del libro\n",
    "            ?book ns:hasPages ?pages .\n",
    "            {longitud_filter[longitud]}\n",
    "\n",
    "            # Para calcular el rating medio del libro y ordenarlo de esa forma\n",
    "            ?readInstance ns:aboutBook ?book .\n",
    "            ?readInstance ns:hasRating ?rating .\n",
    "            FILTER(datatype(?rating) = xsd:integer) \n",
    "            \n",
    "            # Incluir autor favorito si está disponible\n",
    "            OPTIONAL {{\n",
    "                ?book ns:writtenBy ?author .\n",
    "                ?author ns:hasName ?authorName .\n",
    "            }}\n",
    "            OPTIONAL {{\n",
    "                # Autor famoso o no\n",
    "                ?author ns:hasAvgRating ?AuthorRating .\n",
    "                ?author ns:ratedBy ?count .\n",
    "            }}\n",
    "            # Incluir libros similares a uno que el usuario ha leído recientemente\n",
    "            OPTIONAL {{\n",
    "                ?book ns:isSimilarTo ?similarBook .\n",
    "                ?similarBook ns:title ?similarToTitle .\n",
    "                ?similarBook ns:title \"{libro_reciente}\" .\n",
    "            }}\n",
    "            {autor_filter}   \n",
    "        }}\n",
    "        GROUP BY ?book ?title ?pages ?authorName ?count ?AuthorRating ?popularity\n",
    "        ORDER BY desc(?similarityCount) desc(?avgRating)\n",
    "\n",
    "    \"\"\"\n",
    "    return consulta\n",
    "\n",
    "\n",
    "endpoint_url = \"http://localhost:7200/repositories/new_project\"  # Cambia esto según tu configuración\n",
    "\n",
    "genero, longitud, libro_reciente, tipo_autor = pedir_preferencias()\n",
    "consulta = crear_consulta(genero, longitud, libro_reciente, tipo_autor)\n",
    "resultados = ejecutar_consulta(endpoint_url, consulta)"
   ]
  },
  {
   "cell_type": "markdown",
   "metadata": {},
   "source": [
    "**The preferences tried for this results are:**\n",
    "\n",
    "Poetry\n",
    "\n",
    "medio\n",
    "\n",
    "The Broken Tower: The Life of Hart Crane\n",
    "\n",
    "poco conocido"
   ]
  },
  {
   "cell_type": "code",
   "execution_count": 29,
   "metadata": {},
   "outputs": [],
   "source": [
    "\n",
    "from colorama import Fore, Style, init\n",
    "def imprimir_resultados(resultados):\n",
    "    init(autoreset=True)  # Inicializar colorama para restablecer los colores automáticamente\n",
    "    \n",
    "    print(f\"{'Title':<50} {'Pages':<10} {'Author':<30} {\"Similarity\":<10}\")\n",
    "    print(\"=\"*135)\n",
    "    \n",
    "    similar_found = False\n",
    "    for idx, resultado in enumerate(resultados):\n",
    "        title = resultado[\"title\"][\"value\"]\n",
    "        pages = resultado[\"pages\"][\"value\"] if \"pages\" in resultado else \"N/A\"\n",
    "        author_name = resultado[\"authorName\"][\"value\"] if \"authorName\" in resultado else \"N/A\"\n",
    "        avg_rating = resultado[\"avgRating\"][\"value\"] if \"avgRating\" in resultado else \"N/A\"\n",
    "        popularity = resultado[\"popularity\"][\"value\"] if \"popularity\" in resultado else \"N/A\"\n",
    "        similarity_count = resultado[\"similarityCount\"][\"value\"] if \"similarityCount\" in resultado else \"N/A\"\n",
    "        \n",
    "        color = Style.RESET_ALL\n",
    "        if int(similarity_count) > 0 and not similar_found:\n",
    "            color = Fore.GREEN\n",
    "            similar_found = True\n",
    "        elif idx < 10:\n",
    "            color = Fore.BLUE\n",
    "        \n",
    "        print(f\"{color}{title:<50} {pages:<10} {author_name:<30} {similarity_count:<10}\")\n"
   ]
  },
  {
   "cell_type": "code",
   "execution_count": 33,
   "metadata": {},
   "outputs": [
    {
     "name": "stdout",
     "output_type": "stream",
     "text": [
      "Title                                              Pages      Author                         Similarity\n",
      "=======================================================================================================================================\n",
      "First Light                                        286        Charles Baxter                 51        \n",
      "Welcome to the Monkey House (Dell #9478)           308        Kurt Vonnegut Jr.              0         \n",
      "Fountain of Dreams (Akora, #4)                     384        Josie Litton                   0         \n",
      "A Walk Through the Fire (Sharon McCone, #19)       293        Marcia Muller                  0         \n",
      "Cover the Butter                                   368        Carrie Kabak                   0         \n",
      "Lo's Diary                                         336        Pia Pera                       0         \n",
      "The Boy Knight: A Tale of the Crusades             272        G.A. Henty                     0         \n",
      "Anne of the Island                                 240        L.M. Montgomery                0         \n",
      "The Razor's Edge                                   246        W. Somerset Maugham            0         \n",
      "Blue Light                                         400        Walter Mosley                  0         \n",
      "The Master of Ballantrae and Weir of Hermiston     336        Robert Louis Stevenson         0         \n",
      "Boys that Bite (Blood Coven Vampire, #1)           272        Mari Mancusi                   0         \n",
      "Hammer of the Scots (Plantagenet Saga, #7)         326        Jean Plaidy                    0         \n",
      "White Butterfly (Easy Rawlins, #3)                 291        Walter Mosley                  0         \n",
      "Freedom Beach                                      288        John Kessel                    0         \n",
      "Freedom Beach                                      288        James Patrick Kelly            0         \n",
      "The One That Got Away (includes: Effingtons, #8.5) 371        Victoria Alexander             0         \n",
      "The One That Got Away (includes: Effingtons, #8.5) 371        Cathy Maxwell                  0         \n",
      "The One That Got Away (includes: Effingtons, #8.5) 371        Eloisa James                   0         \n",
      "The One That Got Away (includes: Effingtons, #8.5) 371        Liz Carlyle                    0         \n",
      "The Iowa Baseball Confederacy                      310        W.P. Kinsella                  0         \n",
      "Forever Free                                       288        Joe Haldeman                   0         \n",
      "Charnel House                                      256        Graham Masterton               0         \n",
      "The Grass Harp, Including A Tree of Night and Other Stories 272        Truman Capote                  0         \n",
      "Alice's Adventures in Wonderland                   356        Lewis Carroll                  0         \n",
      "Small Betrayals                                    214        Shobhaa De                     0         \n",
      "Generica                                           320        Will Ferguson                  0         \n",
      "Generica                                           320        Katimaviktim                   0         \n",
      "Can't Take My Eyes Off of You                      352        Judith McNaught                0         \n",
      "The Art of War                                     273        Sun Tzu                        0         \n",
      "The Librarian                                      256        Larry Beinhart                 0         \n",
      "Second Chance                                      288        Danielle Steel                 0         \n",
      "The Marcelli Princess (Marcelli, #5)               310        Susan Mallery                  0         \n",
      "Just Desserts (Bed-and-Breakfast Mysteries, #1)    256        Mary Daheim                    0         \n",
      "Night Visions 5                                    274        George R.R. Martin             0         \n",
      "Night Visions 5                                    274        Dan Simmons                    0         \n",
      "Night Visions 5                                    274        Stephen King                   0         \n",
      "A Confederacy of Dunces                            338        John Kennedy Toole             0         \n",
      "The Mrs. Dalloway Reader                           400        Francine Prose                 0         \n",
      "The Mrs. Dalloway Reader                           400        Virginia Woolf                 0         \n",
      "Space Wolf                                         283        William King                   0         \n",
      "Searching for Caleb                                309        Anne Tyler                     0         \n",
      "A Holiday Of Love : Miracles / Change of Heart / Daniel and the Angel / Hark!  The Herald 354        Arnette Lamb                   0         \n",
      "A Holiday Of Love : Miracles / Change of Heart / Daniel and the Angel / Hark!  The Herald 354        Jude Deveraux                  0         \n",
      "A Holiday Of Love : Miracles / Change of Heart / Daniel and the Angel / Hark!  The Herald 354        Jill Barnett                   0         \n",
      "A Holiday Of Love : Miracles / Change of Heart / Daniel and the Angel / Hark!  The Herald 354        Judith McNaught                0         \n",
      "Revenant (Buffy the Vampire Slayer: Season 3, #11) 386        Joss Whedon                    0         \n",
      "Revenant (Buffy the Vampire Slayer: Season 3, #11) 386        Mel Odom                       0         \n",
      "Freshers                                           288        Kevin Sampson                  0         \n",
      "Throne of Jade (Temeraire, #2)                     398        Naomi Novik                    0         \n"
     ]
    }
   ],
   "source": [
    "imprimir_resultados(resultados[:50])"
   ]
  }
 ],
 "metadata": {
  "kernelspec": {
   "display_name": "venv",
   "language": "python",
   "name": "python3"
  },
  "language_info": {
   "codemirror_mode": {
    "name": "ipython",
    "version": 3
   },
   "file_extension": ".py",
   "mimetype": "text/x-python",
   "name": "python",
   "nbconvert_exporter": "python",
   "pygments_lexer": "ipython3",
   "version": "3.12.2"
  }
 },
 "nbformat": 4,
 "nbformat_minor": 2
}
