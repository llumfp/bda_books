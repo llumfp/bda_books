{
 "cells": [
  {
   "cell_type": "code",
   "execution_count": null,
   "metadata": {},
   "outputs": [],
   "source": [
    "from SPARQLWrapper import SPARQLWrapper, JSON\n",
    "import urllib.parse"
   ]
  },
  {
   "cell_type": "code",
   "execution_count": 19,
   "metadata": {},
   "outputs": [],
   "source": [
    "endpoint_url = \"http://localhost:7200/repositories/new_project\"  # Cambia esto según tu configuración\n",
    "\n",
    "def ejecutar_consulta(endpoint_url, consulta):\n",
    "    sparql = SPARQLWrapper(endpoint_url)\n",
    "    sparql.setQuery(consulta)\n",
    "    sparql.setReturnFormat(JSON)\n",
    "    resultados = sparql.query().convert()\n",
    "    return resultados[\"results\"][\"bindings\"]"
   ]
  },
  {
   "cell_type": "markdown",
   "metadata": {},
   "source": [
    "## Previous queries"
   ]
  },
  {
   "cell_type": "code",
   "execution_count": 30,
   "metadata": {},
   "outputs": [
    {
     "name": "stdout",
     "output_type": "stream",
     "text": [
      "minRating: 0.0\n",
      "maxRating: 5.0\n",
      "minCount: 0.0\n",
      "maxCount: 18532721.0\n"
     ]
    }
   ],
   "source": [
    "query_min_max = \"\"\"\n",
    "PREFIX ns: <http://example.org/ns#>\n",
    "\n",
    "SELECT (MIN(?rating) AS ?minRating) (MAX(?rating) AS ?maxRating) (MIN(?count) AS ?minCount) (MAX(?count) AS ?maxCount)\n",
    "WHERE {\n",
    "    ?author ns:hasAvgRating ?rating .\n",
    "    ?author ns:ratedBy ?count .\n",
    "}\"\"\"\n",
    "\n",
    "min_max = ejecutar_consulta(endpoint_url,query_min_max)\n",
    "for k in min_max[0]:\n",
    "    print(f'{k}: {float(min_max[0][k]['value'])}')"
   ]
  },
  {
   "cell_type": "code",
   "execution_count": 31,
   "metadata": {},
   "outputs": [],
   "source": [
    "query_avg_popularity = f\"\"\"PREFIX ns: <http://example.org/ns#>\n",
    "PREFIX rdf: <http://www.w3.org/1999/02/22-rdf-syntax-ns#>\n",
    "PREFIX xsd: <http://www.w3.org/2001/XMLSchema#>\n",
    "SELECT (AVG(?popularity) AS ?avgpopular)\n",
    "    WHERE {{\n",
    "        ?author rdf:type ns:Author .\n",
    "        ?author ns:hasAvgRating ?AuthorRating .\n",
    "        ?author ns:ratedBy ?count .\n",
    "        BIND(((?AuthorRating - {float(min_max[0]['minRating']['value'])}) / ({float(min_max[0]['maxRating']['value'])} - {float(min_max[0]['minRating']['value'])}) * 0.5 + \n",
    "                (?count - {float(min_max[0]['minCount']['value'])}) / ({float(min_max[0]['maxCount']['value'])} - {float(min_max[0]['minCount']['value'])}) * 0.5) AS ?popularity)\n",
    "    }}\"\"\"\n",
    "\n",
    "avg_popularity = ejecutar_consulta(endpoint_url,query_avg_popularity)"
   ]
  },
  {
   "cell_type": "code",
   "execution_count": 35,
   "metadata": {},
   "outputs": [],
   "source": [
    "popularity_threashold = float(avg_popularity[0]['avgpopular']['value'])"
   ]
  },
  {
   "cell_type": "code",
   "execution_count": 39,
   "metadata": {},
   "outputs": [
    {
     "data": {
      "text/plain": [
       "0.3943175919023493"
      ]
     },
     "execution_count": 39,
     "metadata": {},
     "output_type": "execute_result"
    }
   ],
   "source": [
    "popularity_threashold"
   ]
  },
  {
   "cell_type": "markdown",
   "metadata": {},
   "source": [
    "## Find your perfect book"
   ]
  },
  {
   "cell_type": "code",
   "execution_count": 78,
   "metadata": {},
   "outputs": [],
   "source": [
    "from SPARQLWrapper import SPARQLWrapper, JSON\n",
    "import urllib.parse\n",
    "\n",
    "# Función para pedir preferencias al usuario\n",
    "def pedir_preferencias():\n",
    "    genero = input(\"¿Qué género estás buscando? \").strip()\n",
    "    longitud = input(\"¿Te gustan libros cortos/medios/largos? \").strip().lower()\n",
    "    libro_reciente = input(\"¿Tienes una referencia de algún libro que hayas leído recientemente? \").strip()\n",
    "    tipo_autor = input(\"¿Prefieres un autor famoso o poco conocido? (famoso/poco conocido) \").strip().lower()\n",
    "    return genero, longitud, libro_reciente, tipo_autor\n",
    "\n",
    "def crear_consulta(genero, longitud, libro_reciente, tipo_autor):\n",
    "    longitud_filter = {\n",
    "        \"corto\": \"FILTER (?pages <= 200)\",\n",
    "        \"medio\": \"FILTER (?pages > 200 && ?pages <= 400)\",\n",
    "        \"largo\": \"FILTER (?pages > 400)\"\n",
    "    }\n",
    "\n",
    "    genero_uri = urllib.parse.quote(genero)\n",
    "    autor_filter = \"\"\"\n",
    "            BIND(((?AuthorRating - {float(min_max[0]['minRating']['value'])}) / ({float(min_max[0]['maxRating']['value'])} - {float(min_max[0]['minRating']['value'])}) * 0.5 + \n",
    "            (?count - {float(min_max[0]['minCount']['value'])}) / ({float(min_max[0]['maxCount']['value'])} - {float(min_max[0]['minCount']['value'])}) * 0.5) AS ?popularity)\n",
    "            \"\"\"\n",
    "    if tipo_autor == \"famoso\":\n",
    "        autor_filter += f\"FILTER (?popularity >= {popularity_threashold})\"\n",
    "    elif tipo_autor == \"no conocido\":\n",
    "        autor_filter += f\"FILTER (?popularity < {popularity_threashold})\"\n",
    "    else:\n",
    "        autor_filter = \"\"\n",
    "\n",
    "    consulta = f\"\"\"\n",
    "    PREFIX ns: <http://example.org/ns#>\n",
    "    PREFIX rdf: <http://www.w3.org/1999/02/22-rdf-syntax-ns#>\n",
    "    PREFIX xsd: <http://www.w3.org/2001/XMLSchema#>\n",
    "    SELECT ?book ?title ?pages ?authorName ?count ?AuthorRating ?popularity (AVG(?rating) AS ?avgRating) (COUNT(?similarBook) AS ?similarityCount)\n",
    "        WHERE {{\n",
    "            ?book rdf:type ns:Book .\n",
    "            ?book ns:title ?title .\n",
    "        \n",
    "            # Filtrar por género preferido\n",
    "            ?book ns:hasGenre ?genreAssignment .\n",
    "            ?genreAssignment ns:genreType ns:{genero_uri} .\n",
    "        \n",
    "            # Filtrar por longitud del libro\n",
    "            ?book ns:hasPages ?pages .\n",
    "            {longitud_filter[longitud]}\n",
    "\n",
    "            # Para calcular el rating medio del libro y ordenarlo de esa forma\n",
    "            ?readInstance ns:aboutBook ?book .\n",
    "            ?readInstance ns:hasRating ?rating .\n",
    "            FILTER(datatype(?rating) = xsd:integer) \n",
    "            \n",
    "            # Incluir autor favorito si está disponible\n",
    "            OPTIONAL {{\n",
    "                ?book ns:writtenBy ?author .\n",
    "                ?author ns:hasName ?authorName .\n",
    "            }}\n",
    "            OPTIONAL {{\n",
    "                # Autor famoso o no\n",
    "                ?author ns:hasAvgRating ?AuthorRating .\n",
    "                ?author ns:ratedBy ?count .\n",
    "            }}\n",
    "            # Incluir libros similares a uno que el usuario ha leído recientemente\n",
    "            OPTIONAL {{\n",
    "                ?book ns:isSimilarTo ?similarBook .\n",
    "                ?similarBook ns:title ?similarToTitle .\n",
    "                ?similarBook ns:title \"{libro_reciente}\" .\n",
    "            }}\n",
    "            {autor_filter}   \n",
    "        }}\n",
    "        GROUP BY ?book ?title ?pages ?authorName ?count ?AuthorRating ?popularity\n",
    "        ORDER BY desc(?similarityCount) desc(?avgRating)\n",
    "\n",
    "    \"\"\"\n",
    "    return consulta\n",
    "\n",
    "\n",
    "endpoint_url = \"http://localhost:7200/repositories/new_project\"  # Cambia esto según tu configuración\n",
    "\n",
    "genero, longitud, libro_reciente, tipo_autor = pedir_preferencias()\n",
    "consulta = crear_consulta(genero, longitud, libro_reciente, tipo_autor)\n",
    "resultados = ejecutar_consulta(endpoint_url, consulta)\n"
   ]
  },
  {
   "cell_type": "code",
   "execution_count": 87,
   "metadata": {},
   "outputs": [],
   "source": [
    "\n",
    "from colorama import Fore, Style, init\n",
    "def imprimir_resultados(resultados):\n",
    "    init(autoreset=True)  # Inicializar colorama para restablecer los colores automáticamente\n",
    "    \n",
    "    print(f\"{'Title':<50} {'Pages':<10} {'Author':<30}\")\n",
    "    print(\"=\"*135)\n",
    "    \n",
    "    similar_found = False\n",
    "    for idx, resultado in enumerate(resultados):\n",
    "        title = resultado[\"title\"][\"value\"]\n",
    "        pages = resultado[\"pages\"][\"value\"] if \"pages\" in resultado else \"N/A\"\n",
    "        author_name = resultado[\"authorName\"][\"value\"] if \"authorName\" in resultado else \"N/A\"\n",
    "        avg_rating = resultado[\"avgRating\"][\"value\"] if \"avgRating\" in resultado else \"N/A\"\n",
    "        popularity = resultado[\"popularity\"][\"value\"] if \"popularity\" in resultado else \"N/A\"\n",
    "        similarity_count = resultado[\"similarityCount\"][\"value\"] if \"similarityCount\" in resultado else \"N/A\"\n",
    "        \n",
    "        color = Style.RESET_ALL\n",
    "        if int(similarity_count) > 0 and not similar_found:\n",
    "            color = Fore.GREEN\n",
    "            similar_found = True\n",
    "        elif idx < 10:\n",
    "            color = Fore.BLUE\n",
    "        \n",
    "        print(f\"{color}{title:<50} {pages:<10} {author_name:<30}\")\n"
   ]
  },
  {
   "cell_type": "code",
   "execution_count": 88,
   "metadata": {},
   "outputs": [
    {
     "name": "stdout",
     "output_type": "stream",
     "text": [
      "Title                                              Pages      Author                        \n",
      "=======================================================================================================================================\n",
      "First Light                                        286        Charles Baxter                \n",
      "Welcome to the Monkey House (Dell #9478)           308        Kurt Vonnegut Jr.             \n",
      "Fountain of Dreams (Akora, #4)                     384        Josie Litton                  \n",
      "A Walk Through the Fire (Sharon McCone, #19)       293        Marcia Muller                 \n",
      "Cover the Butter                                   368        Carrie Kabak                  \n",
      "Lo's Diary                                         336        Pia Pera                      \n",
      "The Boy Knight: A Tale of the Crusades             272        G.A. Henty                    \n",
      "Anne of the Island                                 240        L.M. Montgomery               \n",
      "The Razor's Edge                                   246        W. Somerset Maugham           \n",
      "Blue Light                                         400        Walter Mosley                 \n",
      "The Master of Ballantrae and Weir of Hermiston     336        Robert Louis Stevenson        \n",
      "Boys that Bite (Blood Coven Vampire, #1)           272        Mari Mancusi                  \n",
      "Hammer of the Scots (Plantagenet Saga, #7)         326        Jean Plaidy                   \n",
      "White Butterfly (Easy Rawlins, #3)                 291        Walter Mosley                 \n",
      "Freedom Beach                                      288        John Kessel                   \n",
      "Freedom Beach                                      288        James Patrick Kelly           \n",
      "The One That Got Away (includes: Effingtons, #8.5) 371        Victoria Alexander            \n",
      "The One That Got Away (includes: Effingtons, #8.5) 371        Cathy Maxwell                 \n",
      "The One That Got Away (includes: Effingtons, #8.5) 371        Eloisa James                  \n",
      "The One That Got Away (includes: Effingtons, #8.5) 371        Liz Carlyle                   \n",
      "The Iowa Baseball Confederacy                      310        W.P. Kinsella                 \n",
      "Forever Free                                       288        Joe Haldeman                  \n",
      "Charnel House                                      256        Graham Masterton              \n",
      "The Grass Harp, Including A Tree of Night and Other Stories 272        Truman Capote                 \n",
      "Alice's Adventures in Wonderland                   356        Lewis Carroll                 \n",
      "Small Betrayals                                    214        Shobhaa De                    \n",
      "Generica                                           320        Will Ferguson                 \n",
      "Generica                                           320        Katimaviktim                  \n",
      "Can't Take My Eyes Off of You                      352        Judith McNaught               \n",
      "The Art of War                                     273        Sun Tzu                       \n",
      "The Librarian                                      256        Larry Beinhart                \n",
      "Second Chance                                      288        Danielle Steel                \n",
      "The Marcelli Princess (Marcelli, #5)               310        Susan Mallery                 \n",
      "Just Desserts (Bed-and-Breakfast Mysteries, #1)    256        Mary Daheim                   \n",
      "Night Visions 5                                    274        George R.R. Martin            \n",
      "Night Visions 5                                    274        Dan Simmons                   \n",
      "Night Visions 5                                    274        Stephen King                  \n",
      "A Confederacy of Dunces                            338        John Kennedy Toole            \n",
      "The Mrs. Dalloway Reader                           400        Francine Prose                \n",
      "The Mrs. Dalloway Reader                           400        Virginia Woolf                \n",
      "Space Wolf                                         283        William King                  \n",
      "Searching for Caleb                                309        Anne Tyler                    \n",
      "A Holiday Of Love : Miracles / Change of Heart / Daniel and the Angel / Hark!  The Herald 354        Arnette Lamb                  \n",
      "A Holiday Of Love : Miracles / Change of Heart / Daniel and the Angel / Hark!  The Herald 354        Jude Deveraux                 \n",
      "A Holiday Of Love : Miracles / Change of Heart / Daniel and the Angel / Hark!  The Herald 354        Jill Barnett                  \n",
      "A Holiday Of Love : Miracles / Change of Heart / Daniel and the Angel / Hark!  The Herald 354        Judith McNaught               \n",
      "Revenant (Buffy the Vampire Slayer: Season 3, #11) 386        Joss Whedon                   \n",
      "Revenant (Buffy the Vampire Slayer: Season 3, #11) 386        Mel Odom                      \n",
      "Freshers                                           288        Kevin Sampson                 \n",
      "Throne of Jade (Temeraire, #2)                     398        Naomi Novik                   \n"
     ]
    }
   ],
   "source": [
    "imprimir_resultados(resultados[\"results\"][\"bindings\"][:50])"
   ]
  }
 ],
 "metadata": {
  "kernelspec": {
   "display_name": "venv",
   "language": "python",
   "name": "python3"
  },
  "language_info": {
   "codemirror_mode": {
    "name": "ipython",
    "version": 3
   },
   "file_extension": ".py",
   "mimetype": "text/x-python",
   "name": "python",
   "nbconvert_exporter": "python",
   "pygments_lexer": "ipython3",
   "version": "3.12.2"
  }
 },
 "nbformat": 4,
 "nbformat_minor": 2
}
