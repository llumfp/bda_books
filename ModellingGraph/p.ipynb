{
 "cells": [
  {
   "cell_type": "code",
   "execution_count": 7,
   "metadata": {},
   "outputs": [
    {
     "data": {
      "text/plain": [
       "<Graph identifier=Ne9f83288492a4fafb83fc9b63fd2adc7 (<class 'rdflib.graph.Graph'>)>"
      ]
     },
     "execution_count": 7,
     "metadata": {},
     "output_type": "execute_result"
    }
   ],
   "source": [
    "from rdflib import Graph, Literal, RDF, RDFS, Namespace\n",
    "from rdflib.namespace import XSD\n",
    "\n",
    "# Crear un nuevo grafo\n",
    "g = Graph()\n",
    "\n",
    "# Definir namespaces\n",
    "NS = Namespace(\"http://example.org/ns#\")\n",
    "\n",
    "# Clases\n",
    "g.add((NS.Book, RDF.type, RDFS.Class))\n",
    "g.add((NS.Author, RDF.type, RDFS.Class))\n",
    "g.add((NS.Genre, RDF.type, RDFS.Class))\n",
    "g.add((NS.ReadInstance, RDF.type, RDFS.Class))\n",
    "g.add((NS.Writer, RDF.type, RDFS.Class))\n",
    "g.add((NS.Writer, RDFS.subClassOf, NS.Author))\n",
    "g.add((NS.Illustrator, RDF.type, RDFS.Class))\n",
    "g.add((NS.Illustrator, RDFS.subClassOf, NS.Author))\n",
    "g.add((NS.Contributor, RDF.type, RDFS.Class))\n",
    "g.add((NS.Contributor, RDFS.subClassOf, NS.Author))\n",
    "g.add((NS.Editor, RDF.type, RDFS.Class))\n",
    "g.add((NS.Editor, RDFS.subClassOf, NS.Author))\n",
    "g.add((NS.Translator, RDF.type, RDFS.Class))\n",
    "g.add((NS.Translator, RDFS.subClassOf, NS.Author))\n",
    "g.add((NS.Reader, RDF.type, RDFS.Class))\n",
    "g.add((NS.GenreAssignment, RDF.type, RDFS.Class))\n",
    "g.add((NS.Rating, RDF.type, RDFS.Class))  # Añadido Rating\n",
    "\n",
    "# Propiedades de Book\n",
    "g.add((NS.hasPages, RDF.type, RDF.Property))\n",
    "g.add((NS.hasPages, RDFS.domain, NS.Book))\n",
    "g.add((NS.hasPages, RDFS.range, XSD.int))\n",
    "\n",
    "\n",
    "\n",
    "g.add((NS.isSimilarTo, RDF.type, RDF.Property))\n",
    "g.add((NS.isSimilarTo, RDFS.domain, NS.Book))\n",
    "g.add((NS.isSimilarTo, RDFS.range, NS.Book))\n",
    "\n",
    "g.add((NS.aboutBook, RDF.type, RDF.Property))\n",
    "g.add((NS.aboutBook, RDFS.domain, NS.Book))\n",
    "g.add((NS.aboutBook, RDFS.range, NS.ReadInstance))\n",
    "\n",
    "g.add((NS.hasGenre, RDF.type, RDF.Property))\n",
    "g.add((NS.hasGenre, RDFS.domain, NS.Book))\n",
    "g.add((NS.hasGenre, RDFS.range, NS.GenreAssignment))\n",
    "\n",
    "g.add((NS.publishedOn, RDF.type, RDF.Property))\n",
    "g.add((NS.publishedOn, RDFS.domain, NS.Book))\n",
    "g.add((NS.publishedOn, RDFS.range, XSD.string))\n",
    "\n",
    "g.add((NS.writtenBy, RDF.type, RDF.Property))\n",
    "g.add((NS.writtenBy, RDFS.domain, NS.Book))\n",
    "g.add((NS.writtenBy, RDFS.range, NS.Writer))\n",
    "\n",
    "g.add((NS.illustratedBy, RDF.type, RDF.Property))\n",
    "g.add((NS.illustratedBy, RDFS.domain, NS.Book))\n",
    "g.add((NS.illustratedBy, RDFS.range, NS.Illustrator))\n",
    "\n",
    "g.add((NS.contributedBy, RDF.type, RDF.Property))\n",
    "g.add((NS.contributedBy, RDFS.domain, NS.Book))\n",
    "g.add((NS.contributedBy, RDFS.range, NS.Contributor))\n",
    "\n",
    "g.add((NS.editedBy, RDF.type, RDF.Property))\n",
    "g.add((NS.editedBy, RDFS.domain, NS.Book))\n",
    "g.add((NS.editedBy, RDFS.range, NS.Editor))\n",
    "\n",
    "g.add((NS.translatedBy, RDF.type, RDF.Property))\n",
    "g.add((NS.translatedBy, RDFS.domain, NS.Book))\n",
    "g.add((NS.translatedBy, RDFS.range, NS.Translator))\n",
    "\n",
    "g.add((NS.ratingCount, RDF.type, RDF.Property)) \n",
    "g.add((NS.ratingCount, RDFS.domain, NS.Book))\n",
    "g.add((NS.ratingCount, RDFS.range, XSD.int))\n",
    "\n",
    "\n",
    "g.add((NS.hasTitle, RDF.type, RDF.Property)) \n",
    "g.add((NS.hasTitle, RDFS.domain, NS.Book))\n",
    "g.add((NS.hasTitle, RDFS.range, XSD.string))\n",
    "\n",
    "# Propiedades de Author\n",
    "g.add((NS.hasName, RDF.type, RDF.Property))\n",
    "g.add((NS.hasName, RDFS.domain, NS.Author))\n",
    "g.add((NS.hasName, RDFS.range, XSD.string))\n",
    "\n",
    "g.add((NS.hasAvgRating, RDF.type, RDF.Property))\n",
    "g.add((NS.hasAvgRating, RDFS.domain, NS.Author))\n",
    "g.add((NS.hasAvgRating, RDFS.range, XSD.float))\n",
    "\n",
    "g.add((NS.ratedBy, RDF.type, RDF.Property))\n",
    "g.add((NS.ratedBy, RDFS.domain, NS.Author))\n",
    "g.add((NS.ratedBy, RDFS.range, NS.Reader))\n",
    "\n",
    "# Propiedades de GenreAssignment\n",
    "g.add((NS.genreType, RDF.type, RDF.Property))\n",
    "g.add((NS.genreType, RDFS.domain, NS.GenreAssignment))\n",
    "g.add((NS.genreType, RDFS.range, NS.Genre))\n",
    "\n",
    "g.add((NS.hasProbability, RDF.type, RDF.Property))\n",
    "g.add((NS.hasProbability, RDFS.domain, NS.GenreAssignment))\n",
    "g.add((NS.hasProbability, RDFS.range, XSD.float))\n",
    "\n",
    "# Propiedades de Reader\n",
    "g.add((NS.hasReadingInstance, RDF.type, RDF.Property))\n",
    "g.add((NS.hasReadingInstance, RDFS.domain, NS.Reader))\n",
    "g.add((NS.hasReadingInstance, RDFS.range, NS.ReadInstance))\n",
    "\n",
    "# Propiedades de ReadInstance\n",
    "g.add((NS.hasRating, RDF.type, RDF.Property))\n",
    "g.add((NS.hasRating, RDFS.domain, NS.ReadInstance))\n",
    "g.add((NS.hasRating, RDFS.range, XSD.int))\n"
   ]
  },
  {
   "cell_type": "code",
   "execution_count": 8,
   "metadata": {},
   "outputs": [
    {
     "data": {
      "text/plain": [
       "<Graph identifier=Ne9f83288492a4fafb83fc9b63fd2adc7 (<class 'rdflib.graph.Graph'>)>"
      ]
     },
     "execution_count": 8,
     "metadata": {},
     "output_type": "execute_result"
    }
   ],
   "source": [
    "# Serializar el grafo en formato RDF/XML y imprimir directamente\n",
    "g.serialize(destination=\"KG.ttl\")"
   ]
  }
 ],
 "metadata": {
  "kernelspec": {
   "display_name": "venv",
   "language": "python",
   "name": "python3"
  },
  "language_info": {
   "codemirror_mode": {
    "name": "ipython",
    "version": 3
   },
   "file_extension": ".py",
   "mimetype": "text/x-python",
   "name": "python",
   "nbconvert_exporter": "python",
   "pygments_lexer": "ipython3",
   "version": "3.12.2"
  }
 },
 "nbformat": 4,
 "nbformat_minor": 2
}
